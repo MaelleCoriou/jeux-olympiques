{
 "cells": [
  {
   "cell_type": "markdown",
   "metadata": {},
   "source": [
    "# P2. Exploration Python"
   ]
  },
  {
   "cell_type": "markdown",
   "metadata": {},
   "source": [
    "Le répertoire `/data` contient les résultats brutes des épreuves des jeux d'été et d'hiver pour une période donnée.\n",
    "\n",
    "On s'intéresse dans le cadre de cette partie P2 à l'exploration des résultats des JO d'été (fichier : `summer-olympics.csv`) en s'appuyant sur le langage Python (standard library seulement).\n"
   ]
  },
  {
   "cell_type": "markdown",
   "metadata": {},
   "source": [
    "---"
   ]
  },
  {
   "cell_type": "markdown",
   "metadata": {},
   "source": [
    "## Préliminaire: Chargement des données\n",
    "Le code fourni ci-dessous permet de charger en mémoire le fichier de données `summer-olympics.csv` dans la variable `data`"
   ]
  },
  {
   "cell_type": "code",
   "execution_count": 1,
   "metadata": {},
   "outputs": [
    {
     "name": "stdout",
     "output_type": "stream",
     "text": [
      "data/summer-olympics.csv loaded into data (31165 items)\n",
      "done in 0.50 s.\n"
     ]
    }
   ],
   "source": [
    "import csv\n",
    "import time\n",
    "\n",
    "filename = 'data/summer-olympics.csv'\n",
    "\n",
    "ts = time.time()\n",
    "\n",
    "data = []\n",
    "with open(filename, newline ='', encoding='utf-8') as csvfile:\n",
    "    reader = csv.DictReader(csvfile, delimiter=',')\n",
    "    for row in reader:\n",
    "        data.append(row)\n",
    "n_items = len(data)\n",
    "\n",
    "te = time.time()\n",
    "        \n",
    "print(f\"{filename} loaded into data ({n_items} items)\")\n",
    "print(f\"done in {te - ts:.2f} s.\")\n"
   ]
  },
  {
   "cell_type": "markdown",
   "metadata": {},
   "source": [
    "### Question 0: Où trouver la documentation du module `csv` ? de la fonction `csv.DictReader` ? "
   ]
  },
  {
   "cell_type": "markdown",
   "metadata": {},
   "source": [
    "python.org ou help (csv)"
   ]
  },
  {
   "cell_type": "code",
   "execution_count": 2,
   "metadata": {},
   "outputs": [
    {
     "name": "stdout",
     "output_type": "stream",
     "text": [
      "Help on class DictReader in module csv:\n",
      "\n",
      "class DictReader(builtins.object)\n",
      " |  DictReader(f, fieldnames=None, restkey=None, restval=None, dialect='excel', *args, **kwds)\n",
      " |  \n",
      " |  Methods defined here:\n",
      " |  \n",
      " |  __init__(self, f, fieldnames=None, restkey=None, restval=None, dialect='excel', *args, **kwds)\n",
      " |      Initialize self.  See help(type(self)) for accurate signature.\n",
      " |  \n",
      " |  __iter__(self)\n",
      " |  \n",
      " |  __next__(self)\n",
      " |  \n",
      " |  ----------------------------------------------------------------------\n",
      " |  Data descriptors defined here:\n",
      " |  \n",
      " |  __dict__\n",
      " |      dictionary for instance variables (if defined)\n",
      " |  \n",
      " |  __weakref__\n",
      " |      list of weak references to the object (if defined)\n",
      " |  \n",
      " |  fieldnames\n",
      "\n"
     ]
    }
   ],
   "source": [
    "help (csv.DictReader)"
   ]
  },
  {
   "cell_type": "markdown",
   "metadata": {},
   "source": [
    "---\n",
    "### Question 1: Quel est le type de la variable `data`? "
   ]
  },
  {
   "cell_type": "code",
   "execution_count": 3,
   "metadata": {},
   "outputs": [
    {
     "data": {
      "text/plain": [
       "list"
      ]
     },
     "execution_count": 3,
     "metadata": {},
     "output_type": "execute_result"
    }
   ],
   "source": [
    "type(data)"
   ]
  },
  {
   "cell_type": "markdown",
   "metadata": {},
   "source": [
    "### Question 2: Combien d'éléments contient la variable `data` ? "
   ]
  },
  {
   "cell_type": "code",
   "execution_count": 4,
   "metadata": {},
   "outputs": [
    {
     "data": {
      "text/plain": [
       "31165"
      ]
     },
     "execution_count": 4,
     "metadata": {},
     "output_type": "execute_result"
    }
   ],
   "source": [
    "len(data)"
   ]
  },
  {
   "cell_type": "markdown",
   "metadata": {},
   "source": [
    "### Question 2: Quel est le premier élément de `data` ? "
   ]
  },
  {
   "cell_type": "code",
   "execution_count": 5,
   "metadata": {},
   "outputs": [
    {
     "data": {
      "text/plain": [
       "{'Year': '1896',\n",
       " 'City': 'Athens',\n",
       " 'Sport': 'Aquatics',\n",
       " 'Discipline': 'Swimming',\n",
       " 'Athlete': 'HAJOS, Alfred',\n",
       " 'Country': 'HUN',\n",
       " 'Gender': 'Men',\n",
       " 'Event': '100M Freestyle',\n",
       " 'Medal': 'Gold'}"
      ]
     },
     "execution_count": 5,
     "metadata": {},
     "output_type": "execute_result"
    }
   ],
   "source": [
    "data[0]"
   ]
  },
  {
   "cell_type": "markdown",
   "metadata": {},
   "source": [
    "### Question 3: Quel est le dernier élément de data ? "
   ]
  },
  {
   "cell_type": "code",
   "execution_count": 6,
   "metadata": {},
   "outputs": [
    {
     "data": {
      "text/plain": [
       "{'Year': '2012',\n",
       " 'City': 'London',\n",
       " 'Sport': 'Wrestling',\n",
       " 'Discipline': 'Wrestling Freestyle',\n",
       " 'Athlete': 'LIDBERG, Jimmy',\n",
       " 'Country': 'SWE',\n",
       " 'Gender': 'Men',\n",
       " 'Event': 'Wg 96 KG',\n",
       " 'Medal': 'Bronze'}"
      ]
     },
     "execution_count": 6,
     "metadata": {},
     "output_type": "execute_result"
    }
   ],
   "source": [
    "data[-1]"
   ]
  },
  {
   "cell_type": "code",
   "execution_count": 7,
   "metadata": {},
   "outputs": [
    {
     "data": {
      "text/plain": [
       "{'Year': '2012',\n",
       " 'City': 'London',\n",
       " 'Sport': 'Wrestling',\n",
       " 'Discipline': 'Wrestling Freestyle',\n",
       " 'Athlete': 'LIDBERG, Jimmy',\n",
       " 'Country': 'SWE',\n",
       " 'Gender': 'Men',\n",
       " 'Event': 'Wg 96 KG',\n",
       " 'Medal': 'Bronze'}"
      ]
     },
     "execution_count": 7,
     "metadata": {},
     "output_type": "execute_result"
    }
   ],
   "source": [
    "data[31164]"
   ]
  },
  {
   "cell_type": "markdown",
   "metadata": {},
   "source": [
    " "
   ]
  },
  {
   "cell_type": "markdown",
   "metadata": {},
   "source": [
    "---\n",
    "#### On définit la variable sample de la façon suivante :"
   ]
  },
  {
   "cell_type": "code",
   "execution_count": 8,
   "metadata": {},
   "outputs": [],
   "source": [
    "sample = data[25215]"
   ]
  },
  {
   "cell_type": "markdown",
   "metadata": {},
   "source": [
    "### Question 4: Que représente la variable `sample` ? "
   ]
  },
  {
   "cell_type": "code",
   "execution_count": 9,
   "metadata": {},
   "outputs": [
    {
     "data": {
      "text/plain": [
       "{'Year': '2004',\n",
       " 'City': 'Athens',\n",
       " 'Sport': 'Aquatics',\n",
       " 'Discipline': 'Swimming',\n",
       " 'Athlete': 'MANAUDOU, Laure',\n",
       " 'Country': 'FRA',\n",
       " 'Gender': 'Women',\n",
       " 'Event': '100M Backstroke',\n",
       " 'Medal': 'Bronze'}"
      ]
     },
     "execution_count": 9,
     "metadata": {},
     "output_type": "execute_result"
    }
   ],
   "source": [
    "sample"
   ]
  },
  {
   "cell_type": "markdown",
   "metadata": {},
   "source": [
    "### Question 5: Quel est le type de la variable `sample` ? "
   ]
  },
  {
   "cell_type": "code",
   "execution_count": 10,
   "metadata": {},
   "outputs": [
    {
     "data": {
      "text/plain": [
       "dict"
      ]
     },
     "execution_count": 10,
     "metadata": {},
     "output_type": "execute_result"
    }
   ],
   "source": [
    "type(sample)"
   ]
  },
  {
   "cell_type": "markdown",
   "metadata": {},
   "source": [
    "### Question 6: De quel sport / discipline / compétition (Event) est-il question  ? "
   ]
  },
  {
   "cell_type": "code",
   "execution_count": 11,
   "metadata": {},
   "outputs": [
    {
     "data": {
      "text/plain": [
       "'Aquatics'"
      ]
     },
     "execution_count": 11,
     "metadata": {},
     "output_type": "execute_result"
    }
   ],
   "source": [
    "sample[\"Sport\"]"
   ]
  },
  {
   "cell_type": "code",
   "execution_count": 12,
   "metadata": {},
   "outputs": [
    {
     "data": {
      "text/plain": [
       "'Swimming'"
      ]
     },
     "execution_count": 12,
     "metadata": {},
     "output_type": "execute_result"
    }
   ],
   "source": [
    "sample[\"Discipline\"]"
   ]
  },
  {
   "cell_type": "markdown",
   "metadata": {},
   "source": [
    "Dict / Dictionnaire collection d'infos par Key / valeur"
   ]
  },
  {
   "cell_type": "markdown",
   "metadata": {},
   "source": [
    "### Question 5: Quel est le type de la variable `sample` ? "
   ]
  },
  {
   "cell_type": "markdown",
   "metadata": {},
   "source": [
    "Q1 Combien la France a remporté de médailles d'or en 1984?"
   ]
  },
  {
   "cell_type": "code",
   "execution_count": 13,
   "metadata": {},
   "outputs": [
    {
     "data": {
      "text/plain": [
       "list"
      ]
     },
     "execution_count": 13,
     "metadata": {},
     "output_type": "execute_result"
    }
   ],
   "source": [
    "type(data)"
   ]
  },
  {
   "cell_type": "code",
   "execution_count": 14,
   "metadata": {},
   "outputs": [
    {
     "data": {
      "text/plain": [
       "dict"
      ]
     },
     "execution_count": 14,
     "metadata": {},
     "output_type": "execute_result"
    }
   ],
   "source": [
    "type(data[0])"
   ]
  },
  {
   "cell_type": "code",
   "execution_count": 15,
   "metadata": {},
   "outputs": [
    {
     "data": {
      "text/plain": [
       "21"
      ]
     },
     "execution_count": 15,
     "metadata": {},
     "output_type": "execute_result"
    }
   ],
   "source": [
    "selection = []\n",
    "for e in data:\n",
    "    if e[\"Year\"] == '1984' and e[\"Country\"] == \"FRA\" and e[\"Medal\"] == \"Gold\":\n",
    "        selection.append(e)\n",
    "len(selection)"
   ]
  },
  {
   "cell_type": "code",
   "execution_count": 16,
   "metadata": {
    "collapsed": true,
    "jupyter": {
     "outputs_hidden": true
    }
   },
   "outputs": [
    {
     "data": {
      "text/plain": [
       "[{'Year': '1984',\n",
       "  'City': 'Los Angeles',\n",
       "  'Sport': 'Athletics',\n",
       "  'Discipline': 'Athletics',\n",
       "  'Athlete': 'QUINON, Pierre',\n",
       "  'Country': 'FRA',\n",
       "  'Gender': 'Men',\n",
       "  'Event': 'Pole Vault',\n",
       "  'Medal': 'Gold'},\n",
       " {'Year': '1984',\n",
       "  'City': 'Los Angeles',\n",
       "  'Sport': 'Fencing',\n",
       "  'Discipline': 'Fencing',\n",
       "  'Athlete': 'BOISSE, Philippe',\n",
       "  'Country': 'FRA',\n",
       "  'Gender': 'Men',\n",
       "  'Event': 'Épée Individual',\n",
       "  'Medal': 'Gold'},\n",
       " {'Year': '1984',\n",
       "  'City': 'Los Angeles',\n",
       "  'Sport': 'Fencing',\n",
       "  'Discipline': 'Fencing',\n",
       "  'Athlete': 'LAMOUR, Jean-Francois',\n",
       "  'Country': 'FRA',\n",
       "  'Gender': 'Men',\n",
       "  'Event': 'Sabre Individual',\n",
       "  'Medal': 'Gold'},\n",
       " {'Year': '1984',\n",
       "  'City': 'Los Angeles',\n",
       "  'Sport': 'Football',\n",
       "  'Discipline': 'Football',\n",
       "  'Athlete': 'AYACHE, William',\n",
       "  'Country': 'FRA',\n",
       "  'Gender': 'Men',\n",
       "  'Event': 'Football',\n",
       "  'Medal': 'Gold'},\n",
       " {'Year': '1984',\n",
       "  'City': 'Los Angeles',\n",
       "  'Sport': 'Football',\n",
       "  'Discipline': 'Football',\n",
       "  'Athlete': 'BENSOUSSAN, Michel',\n",
       "  'Country': 'FRA',\n",
       "  'Gender': 'Men',\n",
       "  'Event': 'Football',\n",
       "  'Medal': 'Gold'},\n",
       " {'Year': '1984',\n",
       "  'City': 'Los Angeles',\n",
       "  'Sport': 'Football',\n",
       "  'Discipline': 'Football',\n",
       "  'Athlete': 'BIBARD, Michel',\n",
       "  'Country': 'FRA',\n",
       "  'Gender': 'Men',\n",
       "  'Event': 'Football',\n",
       "  'Medal': 'Gold'},\n",
       " {'Year': '1984',\n",
       "  'City': 'Los Angeles',\n",
       "  'Sport': 'Football',\n",
       "  'Discipline': 'Football',\n",
       "  'Athlete': 'BIJOTAT, Dominique',\n",
       "  'Country': 'FRA',\n",
       "  'Gender': 'Men',\n",
       "  'Event': 'Football',\n",
       "  'Medal': 'Gold'},\n",
       " {'Year': '1984',\n",
       "  'City': 'Los Angeles',\n",
       "  'Sport': 'Football',\n",
       "  'Discipline': 'Football',\n",
       "  'Athlete': 'BRISSON, Francois',\n",
       "  'Country': 'FRA',\n",
       "  'Gender': 'Men',\n",
       "  'Event': 'Football',\n",
       "  'Medal': 'Gold'},\n",
       " {'Year': '1984',\n",
       "  'City': 'Los Angeles',\n",
       "  'Sport': 'Football',\n",
       "  'Discipline': 'Football',\n",
       "  'Athlete': 'CUBAYNES, Patrick',\n",
       "  'Country': 'FRA',\n",
       "  'Gender': 'Men',\n",
       "  'Event': 'Football',\n",
       "  'Medal': 'Gold'},\n",
       " {'Year': '1984',\n",
       "  'City': 'Los Angeles',\n",
       "  'Sport': 'Football',\n",
       "  'Discipline': 'Football',\n",
       "  'Athlete': 'GARANDE, Patrice',\n",
       "  'Country': 'FRA',\n",
       "  'Gender': 'Men',\n",
       "  'Event': 'Football',\n",
       "  'Medal': 'Gold'},\n",
       " {'Year': '1984',\n",
       "  'City': 'Los Angeles',\n",
       "  'Sport': 'Football',\n",
       "  'Discipline': 'Football',\n",
       "  'Athlete': 'JEANNOL, Philippe',\n",
       "  'Country': 'FRA',\n",
       "  'Gender': 'Men',\n",
       "  'Event': 'Football',\n",
       "  'Medal': 'Gold'},\n",
       " {'Year': '1984',\n",
       "  'City': 'Los Angeles',\n",
       "  'Sport': 'Football',\n",
       "  'Discipline': 'Football',\n",
       "  'Athlete': 'LACOMBE, Guy',\n",
       "  'Country': 'FRA',\n",
       "  'Gender': 'Men',\n",
       "  'Event': 'Football',\n",
       "  'Medal': 'Gold'},\n",
       " {'Year': '1984',\n",
       "  'City': 'Los Angeles',\n",
       "  'Sport': 'Football',\n",
       "  'Discipline': 'Football',\n",
       "  'Athlete': 'LEMOULT, Jean-Claude',\n",
       "  'Country': 'FRA',\n",
       "  'Gender': 'Men',\n",
       "  'Event': 'Football',\n",
       "  'Medal': 'Gold'},\n",
       " {'Year': '1984',\n",
       "  'City': 'Los Angeles',\n",
       "  'Sport': 'Football',\n",
       "  'Discipline': 'Football',\n",
       "  'Athlete': 'ROHR, Jean Philippe',\n",
       "  'Country': 'FRA',\n",
       "  'Gender': 'Men',\n",
       "  'Event': 'Football',\n",
       "  'Medal': 'Gold'},\n",
       " {'Year': '1984',\n",
       "  'City': 'Los Angeles',\n",
       "  'Sport': 'Football',\n",
       "  'Discipline': 'Football',\n",
       "  'Athlete': 'RUST, Albert',\n",
       "  'Country': 'FRA',\n",
       "  'Gender': 'Men',\n",
       "  'Event': 'Football',\n",
       "  'Medal': 'Gold'},\n",
       " {'Year': '1984',\n",
       "  'City': 'Los Angeles',\n",
       "  'Sport': 'Football',\n",
       "  'Discipline': 'Football',\n",
       "  'Athlete': 'SENAC, Didier',\n",
       "  'Country': 'FRA',\n",
       "  'Gender': 'Men',\n",
       "  'Event': 'Football',\n",
       "  'Medal': 'Gold'},\n",
       " {'Year': '1984',\n",
       "  'City': 'Los Angeles',\n",
       "  'Sport': 'Football',\n",
       "  'Discipline': 'Football',\n",
       "  'Athlete': 'THOUVENEL, Jean Christophe',\n",
       "  'Country': 'FRA',\n",
       "  'Gender': 'Men',\n",
       "  'Event': 'Football',\n",
       "  'Medal': 'Gold'},\n",
       " {'Year': '1984',\n",
       "  'City': 'Los Angeles',\n",
       "  'Sport': 'Football',\n",
       "  'Discipline': 'Football',\n",
       "  'Athlete': 'TOURE, Jose',\n",
       "  'Country': 'FRA',\n",
       "  'Gender': 'Men',\n",
       "  'Event': 'Football',\n",
       "  'Medal': 'Gold'},\n",
       " {'Year': '1984',\n",
       "  'City': 'Los Angeles',\n",
       "  'Sport': 'Football',\n",
       "  'Discipline': 'Football',\n",
       "  'Athlete': 'XUEREB, Daniel',\n",
       "  'Country': 'FRA',\n",
       "  'Gender': 'Men',\n",
       "  'Event': 'Football',\n",
       "  'Medal': 'Gold'},\n",
       " {'Year': '1984',\n",
       "  'City': 'Los Angeles',\n",
       "  'Sport': 'Football',\n",
       "  'Discipline': 'Football',\n",
       "  'Athlete': 'ZANON, Jean Louis',\n",
       "  'Country': 'FRA',\n",
       "  'Gender': 'Men',\n",
       "  'Event': 'Football',\n",
       "  'Medal': 'Gold'},\n",
       " {'Year': '1984',\n",
       "  'City': 'Los Angeles',\n",
       "  'Sport': 'Shooting',\n",
       "  'Discipline': 'Shooting',\n",
       "  'Athlete': 'HEBERLE, Philippe',\n",
       "  'Country': 'FRA',\n",
       "  'Gender': 'Men',\n",
       "  'Event': '10M Air Rifle (60 Shots)',\n",
       "  'Medal': 'Gold'}]"
      ]
     },
     "execution_count": 16,
     "metadata": {},
     "output_type": "execute_result"
    }
   ],
   "source": [
    "selection"
   ]
  },
  {
   "cell_type": "code",
   "execution_count": 17,
   "metadata": {},
   "outputs": [
    {
     "name": "stdout",
     "output_type": "stream",
     "text": [
      "QUINON, Pierre FRA\n",
      "BOISSE, Philippe FRA\n",
      "LAMOUR, Jean-Francois FRA\n",
      "AYACHE, William FRA\n",
      "BENSOUSSAN, Michel FRA\n",
      "BIBARD, Michel FRA\n",
      "BIJOTAT, Dominique FRA\n",
      "BRISSON, Francois FRA\n",
      "CUBAYNES, Patrick FRA\n",
      "GARANDE, Patrice FRA\n",
      "JEANNOL, Philippe FRA\n",
      "LACOMBE, Guy FRA\n",
      "LEMOULT, Jean-Claude FRA\n",
      "ROHR, Jean Philippe FRA\n",
      "RUST, Albert FRA\n",
      "SENAC, Didier FRA\n",
      "THOUVENEL, Jean Christophe FRA\n",
      "TOURE, Jose FRA\n",
      "XUEREB, Daniel FRA\n",
      "ZANON, Jean Louis FRA\n",
      "HEBERLE, Philippe FRA\n"
     ]
    }
   ],
   "source": [
    "for e in selection:\n",
    "    print(e[\"Athlete\"], e[\"Country\"])"
   ]
  },
  {
   "cell_type": "markdown",
   "metadata": {},
   "source": [
    "Q2 : En 2012 combien de médailles le Japon a t-il gagné ?"
   ]
  },
  {
   "cell_type": "code",
   "execution_count": 18,
   "metadata": {},
   "outputs": [
    {
     "data": {
      "text/plain": [
       "84"
      ]
     },
     "execution_count": 18,
     "metadata": {},
     "output_type": "execute_result"
    }
   ],
   "source": [
    "selection = []\n",
    "for e in data:\n",
    "    if e[\"Year\"] == '2012'and e[\"Country\"] == \"JPN\" and e[\"Medal\"]:\n",
    "        selection.append(e)\n",
    "len(selection)"
   ]
  },
  {
   "cell_type": "markdown",
   "metadata": {},
   "source": [
    "Q3 Le nombre de médailles d’or par pays en 2012"
   ]
  },
  {
   "cell_type": "code",
   "execution_count": 19,
   "metadata": {},
   "outputs": [
    {
     "data": {
      "text/plain": [
       "634"
      ]
     },
     "execution_count": 19,
     "metadata": {},
     "output_type": "execute_result"
    }
   ],
   "source": [
    "selection = []\n",
    "for e in data:\n",
    "    if e[\"Year\"] == '2012'and e[\"Medal\"] == \"Gold\" and e[\"Country\"]:\n",
    "        selection.append(e)\n",
    "        \n",
    "len(selection)"
   ]
  },
  {
   "cell_type": "code",
   "execution_count": 20,
   "metadata": {},
   "outputs": [
    {
     "data": {
      "text/plain": [
       "list"
      ]
     },
     "execution_count": 20,
     "metadata": {},
     "output_type": "execute_result"
    }
   ],
   "source": [
    "type(selection)"
   ]
  },
  {
   "cell_type": "markdown",
   "metadata": {},
   "source": [
    "Q16 Combien de femmes ont remporté des médailles (Alicia)"
   ]
  },
  {
   "cell_type": "code",
   "execution_count": 21,
   "metadata": {},
   "outputs": [
    {
     "data": {
      "text/plain": [
       "8419"
      ]
     },
     "execution_count": 21,
     "metadata": {},
     "output_type": "execute_result"
    }
   ],
   "source": [
    "selection = []\n",
    "for e in data:\n",
    "    if e[\"Gender\"] == 'Women' and e[\"Medal\"] :\n",
    "        selection.append(e)\n",
    "len(selection)"
   ]
  },
  {
   "cell_type": "markdown",
   "metadata": {},
   "source": [
    "Q7 Combien de femmes ont obtenu  une médaille d’or ? (Lamia)"
   ]
  },
  {
   "cell_type": "code",
   "execution_count": 22,
   "metadata": {},
   "outputs": [
    {
     "data": {
      "text/plain": [
       "2788"
      ]
     },
     "execution_count": 22,
     "metadata": {},
     "output_type": "execute_result"
    }
   ],
   "source": [
    "selection = []\n",
    "for e in data:\n",
    "    if e[\"Gender\"] == 'Women' and e['Medal'] == 'Gold':\n",
    "        selection.append(e)\n",
    "len(selection)"
   ]
  },
  {
   "cell_type": "markdown",
   "metadata": {},
   "source": [
    "Q9 Combien de fois Londres a accueilli les J.O ? (Marvin)"
   ]
  },
  {
   "cell_type": "code",
   "execution_count": 23,
   "metadata": {},
   "outputs": [
    {
     "name": "stdout",
     "output_type": "stream",
     "text": [
      "3567\n"
     ]
    }
   ],
   "source": [
    "City_London = []\n",
    "for e in data:\n",
    "    if e [\"City\"] == 'London':\n",
    "        City_London.append(e)\n",
    "print(len(City_London))"
   ]
  },
  {
   "cell_type": "code",
   "execution_count": 24,
   "metadata": {},
   "outputs": [
    {
     "name": "stdout",
     "output_type": "stream",
     "text": [
      "3\n"
     ]
    }
   ],
   "source": [
    "Year_London = []\n",
    "for e in City_London:\n",
    "    if e['Year'] not in Year_London:\n",
    "        Year_London.append(e['Year'])\n",
    "print(len(Year_London))"
   ]
  },
  {
   "cell_type": "markdown",
   "metadata": {},
   "source": [
    "Q13. Est-ce que la France à déjà gagné une médaille d’or au cricket ? (Jordan)"
   ]
  },
  {
   "cell_type": "code",
   "execution_count": 25,
   "metadata": {},
   "outputs": [
    {
     "name": "stdout",
     "output_type": "stream",
     "text": [
      "False\n"
     ]
    }
   ],
   "source": [
    "selection = []\n",
    "for e in data:\n",
    "    if e['Country'] == 'FRA' and e['Medal'] == 'Gold'and ['Discipline'] == 'Cricket':\n",
    "        selection.append(e)\n",
    "print(bool(selection))"
   ]
  },
  {
   "cell_type": "code",
   "execution_count": 26,
   "metadata": {},
   "outputs": [
    {
     "name": "stdout",
     "output_type": "stream",
     "text": [
      "0\n"
     ]
    }
   ],
   "source": [
    "print(len(selection))"
   ]
  },
  {
   "cell_type": "markdown",
   "metadata": {},
   "source": [
    "Q4. Dans quels différents sports les Grecs ont-ils gagné des médailles ? (Corentin L)"
   ]
  },
  {
   "cell_type": "code",
   "execution_count": 27,
   "metadata": {},
   "outputs": [
    {
     "name": "stdout",
     "output_type": "stream",
     "text": [
      "{'Shooting', 'Fencing', 'Taekwondo', 'Weightlifting', 'Wrestling', 'Rowing', 'Tennis', 'Sailing', 'Judo', 'Athletics', 'Cycling', 'Gymnastics', 'Aquatics'} 13\n"
     ]
    }
   ],
   "source": [
    "Liste_Grece = []\n",
    "Liste_Sport = set()\n",
    "for e in data:\n",
    "    if e['Country'] == 'GRE':\n",
    "        Liste_Grece.append(e)\n",
    "        Liste_Sport.add(e['Sport'])\n",
    "print(Liste_Sport,len(Liste_Sport))"
   ]
  },
  {
   "cell_type": "markdown",
   "metadata": {},
   "source": [
    "Q6. Combien de villes différentes ont accueilli les JO d’été entre 1896 et 2012 ? (Yoann)"
   ]
  },
  {
   "cell_type": "code",
   "execution_count": 28,
   "metadata": {},
   "outputs": [
    {
     "name": "stdout",
     "output_type": "stream",
     "text": [
      "{'Helsinki', 'Seoul', 'London', 'Paris', 'Munich', 'Los Angeles', 'Atlanta', 'Antwerp', 'Berlin', 'Rome', 'Athens', 'Melbourne / Stockholm', 'Moscow', 'Stockholm', 'Tokyo', 'Barcelona', 'Montreal', 'Beijing', 'Sydney', 'Mexico', 'Amsterdam', 'St Louis'} 22\n"
     ]
    }
   ],
   "source": [
    "Liste_Year = []\n",
    "Liste_City = set()\n",
    "for e in data:\n",
    "    if e['Year'] >= '1896':\n",
    "        Liste_Year.append(e)\n",
    "        Liste_City.add(e['City'])\n",
    "print(Liste_City,len(Liste_City))"
   ]
  },
  {
   "cell_type": "markdown",
   "metadata": {},
   "source": [
    "Q8 - Combien de sports différents sont représentés par année ? (Joris)"
   ]
  },
  {
   "cell_type": "code",
   "execution_count": 49,
   "metadata": {},
   "outputs": [
    {
     "name": "stdout",
     "output_type": "stream",
     "text": [
      "{'2004', 'Croquet', 'Polo', 'Taekwondo', 'Basque Pelota', 'Volleyball', 'Wrestling', 'Softball', 'Rowing', 'Water Motorsports', '1988', 'Lacrosse', 'Hockey', 'Athletics', '1936', 'Baseball', '1904', '1972', '1924', 'Rugby', '1920', '1960', 'Modern Pentathlon', '1932', 'Tennis', '1964', '2008', '1900', '1912', 'Canoe / Kayak', '1976', 'Aquatics', 'Shooting', 'Cricket', 'Rackets', 'Fencing', 'Golf', 'Skating', 'Ice Hockey', 'Weightlifting', 'Archery', 'Canoe', 'Football', '1980', '1956', 'Judo', '1996', 'Boxing', 'Cycling', '1968', 'Gymnastics', '1928', 'Basketball', '1948', 'Roque', '2000', 'Handball', '2012', '1992', 'Triathlon', 'Jeu de paume', '1952', 'Tug of War', 'Table Tennis', 'Equestrian', 'Sailing', '1896', '1984', '1908', 'Badminton'}\n"
     ]
    }
   ],
   "source": [
    "Liste_JO = []\n",
    "Liste_SportJO = set()\n",
    "for e in data:\n",
    "    if ['Year'] and ['Sport']:\n",
    "        Liste_SportJO.add(e['Year'])\n",
    "        Liste_SportJO.add(e['Sport'])\n",
    "for e in Liste_JO:\n",
    "    List_SportJO.count(e)\n",
    "print(Liste_SportJO)"
   ]
  },
  {
   "cell_type": "code",
   "execution_count": null,
   "metadata": {},
   "outputs": [],
   "source": []
  }
 ],
 "metadata": {
  "kernelspec": {
   "display_name": "Python 3",
   "language": "python",
   "name": "python3"
  },
  "language_info": {
   "codemirror_mode": {
    "name": "ipython",
    "version": 3
   },
   "file_extension": ".py",
   "mimetype": "text/x-python",
   "name": "python",
   "nbconvert_exporter": "python",
   "pygments_lexer": "ipython3",
   "version": "3.8.6"
  }
 },
 "nbformat": 4,
 "nbformat_minor": 4
}
