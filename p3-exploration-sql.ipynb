{
 "cells": [
  {
   "cell_type": "markdown",
   "metadata": {},
   "source": [
    "# P3. Exploration SQL"
   ]
  },
  {
   "cell_type": "markdown",
   "metadata": {},
   "source": [
    "Le répertoire `/db` contient une base de données SQLite3 `olympics.sqbpro` reprenant les résultats des épreuves des jeux d'été pour une période donnée (cf P1 & P2).\n",
    "\n",
    "On s'intéresse dans le cadre de cette partie P3 à l'exploration via SQL des résultats des JO d'été (table : `summer`)."
   ]
  },
  {
   "cell_type": "markdown",
   "metadata": {},
   "source": [
    "---"
   ]
  },
  {
   "cell_type": "markdown",
   "metadata": {},
   "source": [
    "### Question 1: Qu'est ce que SQL ?"
   ]
  },
  {
   "cell_type": "markdown",
   "metadata": {},
   "source": [
    "SQL (Structured Query Langage) est un langage de base de données relationnelle. \n",
    "Il permet:\n",
    "    - La création de base et des tables.\n",
    "    - L'ajout d'enregistrements sous forme de lignes.\n",
    "    - L'interrogation de la base.\n",
    "    - La mise à jour.\n",
    "    - Le changement de structure de la table: ajout, suppression de colonnes.\n",
    "    - La gestion de droits d'utilisateurs de la base.\n",
    "    \n",
    "Un langage universel\n",
    "Les commandes SQL sont proches du langage naturel, c'était le but du langage dont les principes ont été posés par Edgar F. Codd, et repris par IBM dans SEQUEL (Structured English Query Language), renommé ensuite SQL. Cependant la première version commerciale basée sur SEQUEL l'a été par Relational Software, devenue depuis Oracle.\n",
    "\n",
    "La norme ISO SQL-92 ou SQL-2 a été définie en 1992 et est couramment employée.\n",
    "Cependant de nouvelles normes lui ont succédé, par forcément implémentées sur tous les logiciels.\n",
    "La norme ISO SQL:2006 permet de gérer les fichiers XML, notamment importer des données XML dans une base de donnée ou exporter son contenu en XML.\n",
    "Ce sont surtout ces normes qui font la différence. Quel que soit le logiciel utilisé, MySQL (ou MariaDB), PostgreSQL ou Oracle, ou même les gestionnaires dit NoSQL comme Cassandra, on retrouvera la même syntaxe, avec des différences mineures.\n",
    "\n",
    "Source: https://www.scriptol.fr/sql/sql-introduction.php\n"
   ]
  },
  {
   "cell_type": "markdown",
   "metadata": {},
   "source": [
    "### Question 2: Qu'est ce que SQLite 3 ? Avantages et/ou Inconvénients ?"
   ]
  },
  {
   "cell_type": "markdown",
   "metadata": {},
   "source": [
    "Différence entre MySQL et SQLite\n",
    "MySQL est l'un des systèmes de gestion de bases de données relationnelles open source les plus populaires et les plus appréciés. Il est largement utilisé dans de nombreuses applications industrielles à petite et grande échelle et capable de gérer un grand volume de données. MySQL prend en charge le langage SQL (Structured Query Language) standard. Il est écrit en langage C et C ++ et développé par Michael Widenius et David Axmark en 1994. Actuellement, Oracle Corporation développe, distribue et prend en charge l'application MySQL.\n",
    "\n",
    "SQLite est une bibliothèque écrite en langage C qui implémente une base de données SQL sans serveur, sans configuration et sans transaction. Contrairement aux autres moteurs de base de données SQL, il n'a pas de serveur séparé. Il utilise un fichier disque ordinaire pour son opération de lecture et d'écriture. Le fichier de base de données SQLite est multiplateforme et est facilement copié entre les systèmes d'exploitation 32 bits et 64 bits.\n",
    "\n",
    "Source: https://fr.photo-555.com/4341906-mysql-vs-sqlite"
   ]
  },
  {
   "cell_type": "markdown",
   "metadata": {},
   "source": [
    "### Question 3: Donner des exemples d'autres formats de fichier pouvant être utilisé pour fournir des données similaires "
   ]
  },
  {
   "cell_type": "markdown",
   "metadata": {},
   "source": [
    "XML et non-XML .xls .xml .vs .xlsx .ods.sqlite2 .sqlite1"
   ]
  },
  {
   "cell_type": "markdown",
   "metadata": {},
   "source": [
    "### Question 4: Quel est le type (texte ou binaire) du fichier base de données SQLite3?"
   ]
  },
  {
   "cell_type": "markdown",
   "metadata": {},
   "source": [
    "Le fichier `olympics.sqbpro` est un fichier binaire"
   ]
  },
  {
   "cell_type": "markdown",
   "metadata": {},
   "source": [
    "### Question 5: Donner les caractéristiques de la table `summer` ? "
   ]
  },
  {
   "cell_type": "markdown",
   "metadata": {},
   "source": [
    "Le fichier contient 9 colonnes, 31.165 lignes, 280.490 cellules Taille du fichier 2,48 Mo (2 605 087 Octets)\n",
    "Détail des colonnes : Year\tCity\tSport\tDiscipline\tAthlete\tCountry\tGender\tEvent\tMedal"
   ]
  },
  {
   "cell_type": "markdown",
   "metadata": {},
   "source": [
    "---\n",
    "### Question 6: Combien d'enregistrements possède la table `summer` ?"
   ]
  },
  {
   "cell_type": "code",
   "execution_count": null,
   "metadata": {},
   "outputs": [],
   "source": [
    "Réponse : 31.165 enregistrements\n",
    "\n",
    "SQL:\n",
    "SELECT count(*)\n",
    "FROM summer"
   ]
  },
  {
   "cell_type": "markdown",
   "metadata": {},
   "source": [
    "### Question 7: Quelle période des JO couvre ce fichier de résultats ?"
   ]
  },
  {
   "cell_type": "code",
   "execution_count": null,
   "metadata": {},
   "outputs": [],
   "source": [
    "Réponse : De 1896 à 2012\n",
    "\n",
    "SQL:\n",
    "SELECT MIN(Year), MAX(Year)\n",
    "FROM summer"
   ]
  },
  {
   "cell_type": "markdown",
   "metadata": {},
   "source": [
    "### Question 8: Indiquer les années et villes des olympiades ? "
   ]
  },
  {
   "cell_type": "code",
   "execution_count": null,
   "metadata": {},
   "outputs": [],
   "source": [
    "SQL:\n",
    "SELECT Year, City\n",
    "FROM summer\n",
    "GROUP BY Year"
   ]
  },
  {
   "cell_type": "code",
   "execution_count": null,
   "metadata": {
    "jupyter": {
     "source_hidden": true
    }
   },
   "outputs": [],
   "source": [
    "1896\tAthens\n",
    "1900\tParis\n",
    "1904\tSt Louis\n",
    "1908\tLondon\n",
    "1912\tStockholm\n",
    "1920\tAntwerp\n",
    "1924\tParis\n",
    "1928\tAmsterdam\n",
    "1932\tLos Angeles\n",
    "1936\tBerlin\n",
    "1948\tLondon\n",
    "1952\tHelsinki\n",
    "1956\tMelbourne / Stockholm\n",
    "1960\tRome\n",
    "1964\tTokyo\n",
    "1968\tMexico\n",
    "1972\tMunich\n",
    "1976\tMontreal\n",
    "1980\tMoscow\n",
    "1984\tLos Angeles\n",
    "1988\tSeoul\n",
    "1992\tBarcelona\n",
    "1996\tAtlanta\n",
    "2000\tSydney\n",
    "2004\tAthens\n",
    "2008\tBeijing\n",
    "2012\tLondon"
   ]
  },
  {
   "cell_type": "markdown",
   "metadata": {},
   "source": [
    "### Q1. Combien la France a remporté de médailles d’or aux JO de 1984 ? (Christophe)"
   ]
  },
  {
   "cell_type": "code",
   "execution_count": null,
   "metadata": {},
   "outputs": [],
   "source": [
    "Réponse : 21\n",
    "\n",
    "SQL :\n",
    "SELECT count(*) AS TotalMedailles\n",
    "FROM summer\n",
    "WHERE Year = 1984 AND Country = 'FRA' AND Medal = 'Gold'\n",
    "\n",
    "Réponse : 5\n",
    "    \n",
    "SQL:\n",
    "SELECT count(*) AS TotalMedaillesOr\n",
    "FROM(\n",
    "\tSELECT DISTINCT Sport, Discipline, Event, Gender\n",
    "\tFROM summer\n",
    "\tWHERE year = 1984 AND Country = 'FRA' AND Medal = 'Gold'\n",
    "\tGROUP BY Sport, Discipline, Event, Gender)"
   ]
  },
  {
   "cell_type": "markdown",
   "metadata": {},
   "source": [
    "![Q1](screenshots/q1.png)"
   ]
  },
  {
   "cell_type": "markdown",
   "metadata": {},
   "source": [
    "<img scr=data:image/png;base64,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>"
   ]
  },
  {
   "cell_type": "markdown",
   "metadata": {},
   "source": [
    "### Q2. Quel pays a le plus d’athlètes toutes années confondues ? (Matthias)"
   ]
  },
  {
   "cell_type": "code",
   "execution_count": null,
   "metadata": {},
   "outputs": [],
   "source": [
    "Réponse : USA, 3.149\n",
    "\n",
    "SQL:\n",
    "SELECT Country AS Pays, Count(DISTINCT Athlete) AS NbAtheletes\n",
    "FROM summer\n",
    "GROUP BY Country\n",
    "ORDER BY NbAtheletes DESC\n",
    "LIMIT 1"
   ]
  },
  {
   "cell_type": "markdown",
   "metadata": {},
   "source": [
    "![Q2](screenshots/q2.png)"
   ]
  },
  {
   "cell_type": "markdown",
   "metadata": {},
   "source": [
    "### Q3. En 2012 combien de médailles le Japon a t-il gagné ? (Théo)"
   ]
  },
  {
   "cell_type": "code",
   "execution_count": null,
   "metadata": {},
   "outputs": [],
   "source": [
    "Réponse : 84\n",
    "\n",
    "SQL :\n",
    "SELECT count(Medal)\n",
    "FROM summer\n",
    "WHERE Country = 'JPN' AND Year = 2012"
   ]
  },
  {
   "cell_type": "markdown",
   "metadata": {},
   "source": [
    "![Q3](screenshots/q3.png)"
   ]
  },
  {
   "cell_type": "markdown",
   "metadata": {},
   "source": [
    "### Q4. Dans quels différents sports les Grecs ont-ils gagné des médailles ? (Corentin L)"
   ]
  },
  {
   "cell_type": "code",
   "execution_count": null,
   "metadata": {
    "jupyter": {
     "source_hidden": true
    }
   },
   "outputs": [],
   "source": [
    "Réponse :\n",
    "Aquatics\n",
    "Athletics\n",
    "Cycling\n",
    "Fencing\n",
    "Gymnastics\n",
    "Judo\n",
    "Rowing\n",
    "Sailing\n",
    "Shooting\n",
    "Taekwondo\n",
    "Tennis\n",
    "Weightlifting\n",
    "Wrestling"
   ]
  },
  {
   "cell_type": "code",
   "execution_count": null,
   "metadata": {},
   "outputs": [],
   "source": [
    "SQL:\n",
    "SELECT Sport AS ListeSports\n",
    "FROM summer\n",
    "WHERE Country = 'GRE'\n",
    "GROUP BY Sport"
   ]
  },
  {
   "cell_type": "markdown",
   "metadata": {},
   "source": [
    "![Q4](screenshots/q4.png)"
   ]
  },
  {
   "cell_type": "markdown",
   "metadata": {},
   "source": [
    "### Q5. Quel pays a remporté le plus de médailles d’or ? (Philippe)"
   ]
  },
  {
   "cell_type": "code",
   "execution_count": null,
   "metadata": {},
   "outputs": [],
   "source": [
    "Réponse : USA, 2.235\n",
    "\n",
    "SQL:\n",
    "SELECT Country AS Pays, count(Medal) AS Medailles\n",
    "FROM summer\n",
    "WHERE Medal = 'Gold'\n",
    "GROUP BY Country\n",
    "ORDER BY Medailles DESC\n",
    "LIMIT 5"
   ]
  },
  {
   "cell_type": "markdown",
   "metadata": {},
   "source": [
    "![Q5](screenshots/q5.png)"
   ]
  },
  {
   "cell_type": "markdown",
   "metadata": {},
   "source": [
    "### Q6. Combien de villes différentes ont accueilli les JO d’été entre 1896 et 2012 ? (Yoann)"
   ]
  },
  {
   "cell_type": "code",
   "execution_count": null,
   "metadata": {},
   "outputs": [],
   "source": [
    "Réponse : 22\n",
    "\n",
    "SQL:\n",
    "SELECT count(DISTINCT City) AS NbCity\n",
    "FROM summer"
   ]
  },
  {
   "cell_type": "markdown",
   "metadata": {},
   "source": [
    "![Q6](screenshots/q6.png)"
   ]
  },
  {
   "cell_type": "markdown",
   "metadata": {},
   "source": [
    "### Q7. Combien de femmes ont obtenu  une médaille d’or ? (Lamia)"
   ]
  },
  {
   "cell_type": "code",
   "execution_count": null,
   "metadata": {},
   "outputs": [],
   "source": [
    "Réponse : 2.788 Femmes\n",
    "\n",
    "SQL:\n",
    "SELECT count(Gender) AS NbWomen\n",
    "FROM summer\n",
    "WHERE Gender = 'Women' AND Medal = 'Gold'"
   ]
  },
  {
   "cell_type": "markdown",
   "metadata": {},
   "source": [
    "![Q7](screenshots/q7.png)"
   ]
  },
  {
   "cell_type": "markdown",
   "metadata": {},
   "source": [
    "### Q8. Combien de sports différents sont représentés par année ? (Joris)"
   ]
  },
  {
   "cell_type": "code",
   "execution_count": null,
   "metadata": {
    "jupyter": {
     "source_hidden": true
    }
   },
   "outputs": [],
   "source": [
    "Réponse:\n",
    "1896\t9\n",
    "1900\t19\n",
    "1904\t16\n",
    "1908\t22\n",
    "1912\t14\n",
    "1920\t22\n",
    "1924\t17\n",
    "1928\t14\n",
    "1932\t14\n",
    "1936\t19\n",
    "1948\t17\n",
    "1952\t17\n",
    "1956\t17\n",
    "1960\t17\n",
    "1964\t19\n",
    "1968\t18\n",
    "1972\t21\n",
    "1976\t21\n",
    "1980\t21\n",
    "1984\t21\n",
    "1988\t23\n",
    "1992\t25\n",
    "1996\t26\n",
    "2000\t28\n",
    "2004\t28\n",
    "2008\t28\n",
    "2012\t26"
   ]
  },
  {
   "cell_type": "code",
   "execution_count": null,
   "metadata": {},
   "outputs": [],
   "source": [
    "SQL:\n",
    "SELECT Year as Year, count(DISTINCT Sport) AS Sport\n",
    "FROM summer\n",
    "GROUP BY year"
   ]
  },
  {
   "cell_type": "markdown",
   "metadata": {},
   "source": [
    "![Q8](screenshots/q8.png)"
   ]
  },
  {
   "cell_type": "markdown",
   "metadata": {},
   "source": [
    "### Q9. Combien de fois Londres a accueilli les J.O ? (Marvin)"
   ]
  },
  {
   "cell_type": "code",
   "execution_count": null,
   "metadata": {},
   "outputs": [],
   "source": [
    "Réponse : 3 fois\n",
    "\n",
    "SQL:\n",
    "SELECT city, count(DISTINCT Year) AS NombreDeFoisJO\n",
    "FROM summer\n",
    "WHERE City = 'London'"
   ]
  },
  {
   "cell_type": "markdown",
   "metadata": {},
   "source": [
    "![Q9](screenshots/q9.png)"
   ]
  },
  {
   "cell_type": "markdown",
   "metadata": {},
   "source": [
    "### Q10. Combien de joueuses comptait la sélection brésilienne de volley-ball - médaillée d’or aux J.O de 2012 ? (Corentin P)"
   ]
  },
  {
   "cell_type": "code",
   "execution_count": null,
   "metadata": {},
   "outputs": [],
   "source": [
    "Réponse : 12 Médailles d'or\n",
    "\n",
    "SQL:\n",
    "SELECT Country AS Pays, Count(DISTINCT Athlete) AS NbAthletes, Medal AS Medailles\n",
    "FROM summer\n",
    "WHERE Country = 'BRA' AND Medal= 'Gold' AND Year = 2012 AND Sport = 'Volleyball'\n"
   ]
  },
  {
   "cell_type": "markdown",
   "metadata": {},
   "source": [
    "![Q10](screenshots/q10.png)"
   ]
  },
  {
   "cell_type": "markdown",
   "metadata": {},
   "source": [
    "### Q11. Combien de femmes françaises ont participé en 2012 , quel sont leurs - médailles ? (izak)"
   ]
  },
  {
   "cell_type": "code",
   "execution_count": null,
   "metadata": {},
   "outputs": [],
   "source": [
    "Réponse : 29 Femmes / 31 Médailles\n",
    "\n",
    "SQL:\n",
    "SELECT Country AS Pays, Count(DISTINCT Athlete) AS NbAthletes, count(Medal) AS NbMedailles\n",
    "FROM summer\n",
    "WHERE Country = 'FRA' AND Year = 2012 AND Gender = 'Women'"
   ]
  },
  {
   "cell_type": "markdown",
   "metadata": {},
   "source": [
    "![Q11](screenshots/q11.png)"
   ]
  },
  {
   "cell_type": "markdown",
   "metadata": {},
   "source": [
    "### Q12. Quel est l’athlète qui a remporté le plus de médailles d’or ? (mayel)"
   ]
  },
  {
   "cell_type": "code",
   "execution_count": null,
   "metadata": {},
   "outputs": [],
   "source": [
    "Réponse : PHELPS, Michael\t18\n",
    "\n",
    "SQL :\n",
    "SELECT Athlete, count(Medal) AS NBMedailles\n",
    "FROM summer\n",
    "WHERE Medal = 'Gold'\n",
    "GROUP BY Athlete\n",
    "ORDER BY count(Medal) DESC\n",
    "LIMIT 5"
   ]
  },
  {
   "cell_type": "markdown",
   "metadata": {},
   "source": [
    "![Q12](screenshots/q12.png)"
   ]
  },
  {
   "cell_type": "markdown",
   "metadata": {},
   "source": [
    "### Q13. Est-ce que la France a déjà gagné une médaille d’or au cricket ? - (jordan)"
   ]
  },
  {
   "cell_type": "code",
   "execution_count": null,
   "metadata": {},
   "outputs": [],
   "source": [
    "Réponse : 0\n",
    "    \n",
    "SQL:\n",
    "SELECT Country, count(Medal) AS NbMedaille, Sport\n",
    "FROM summer\n",
    "WHERE Country = 'FRA' AND Medal = 'Gold' AND Sport = 'Cricket'"
   ]
  },
  {
   "cell_type": "markdown",
   "metadata": {},
   "source": [
    "![Q13](screenshots/q13.png)"
   ]
  },
  {
   "cell_type": "markdown",
   "metadata": {},
   "source": [
    "### Q14. Combien de médaillés ont un nom de famille de plus de 6 lettres en - excluant les années paires ? (jonathan)"
   ]
  },
  {
   "cell_type": "code",
   "execution_count": null,
   "metadata": {},
   "outputs": [],
   "source": [
    "Réponse : 0 !"
   ]
  },
  {
   "cell_type": "markdown",
   "metadata": {},
   "source": [
    "### Q15. Le nombre de médailles d’or par pays en 2012 (Maëlle)"
   ]
  },
  {
   "cell_type": "code",
   "execution_count": null,
   "metadata": {},
   "outputs": [],
   "source": [
    "Réponse : 56 pays\n",
    "\n",
    "SQL:\n",
    "SELECT Year, Country, count(Medal) AS NbMedaille\n",
    "FROM summer\n",
    "WHERE Medal = 'Gold' AND Year = 2012\n",
    "GROUP BY Country\n",
    "ORDER BY NbMedaille DESC"
   ]
  },
  {
   "cell_type": "markdown",
   "metadata": {},
   "source": [
    "![Q15](screenshots/q15.png)"
   ]
  },
  {
   "cell_type": "markdown",
   "metadata": {},
   "source": [
    "### Q16. Combien de femmes ont remporté des médailles ? (Alicia)"
   ]
  },
  {
   "cell_type": "code",
   "execution_count": null,
   "metadata": {},
   "outputs": [],
   "source": [
    "Réponse : 5.838 Femmes\n",
    "\n",
    "SQL:\n",
    "SELECT Gender, count(DISTINCT Athlete) AS NbAtheletes\n",
    "FROM summer\n",
    "WHERE Gender = 'Women'"
   ]
  },
  {
   "cell_type": "markdown",
   "metadata": {},
   "source": [
    "![Q16](screenshots/q16.png)"
   ]
  },
  {
   "cell_type": "markdown",
   "metadata": {},
   "source": [
    "### Q17. Entre 1984 et 2012 combien de médailles a gagné la France ? (Abire)"
   ]
  },
  {
   "cell_type": "code",
   "execution_count": null,
   "metadata": {},
   "outputs": [],
   "source": [
    "Réponse : 482\n",
    "\n",
    "SQL :\n",
    "SELECT count(Medal)\n",
    "FROM summer\n",
    "WHERE Country = 'FRA' AND Year BETWEEN 1984 AND 2012"
   ]
  },
  {
   "cell_type": "markdown",
   "metadata": {},
   "source": [
    "![Q17](screenshots/q17.png)"
   ]
  },
  {
   "cell_type": "code",
   "execution_count": null,
   "metadata": {},
   "outputs": [],
   "source": []
  },
  {
   "cell_type": "markdown",
   "metadata": {},
   "source": [
    "--- "
   ]
  },
  {
   "cell_type": "markdown",
   "metadata": {},
   "source": [
    "Fin"
   ]
  }
 ],
 "metadata": {
  "kernelspec": {
   "display_name": "Python 3",
   "language": "python",
   "name": "python3"
  },
  "language_info": {
   "codemirror_mode": {
    "name": "ipython",
    "version": 3
   },
   "file_extension": ".py",
   "mimetype": "text/x-python",
   "name": "python",
   "nbconvert_exporter": "python",
   "pygments_lexer": "ipython3",
   "version": "3.8.6"
  }
 },
 "nbformat": 4,
 "nbformat_minor": 4
}
